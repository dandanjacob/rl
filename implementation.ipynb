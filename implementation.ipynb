{
 "cells": [
  {
   "cell_type": "code",
   "execution_count": null,
   "metadata": {},
   "outputs": [],
   "source": [
    "#importação das bibliotecas necessárias\n",
    "import numpy as np\n",
    "import gym # essencial\n",
    "import random\n",
    "from IPython.display import clear_output\n",
    "from time import sleep"
   ]
  },
  {
   "cell_type": "code",
   "execution_count": null,
   "metadata": {},
   "outputs": [],
   "source": [
    "#verificação de ambientação\n",
    "# Verifica se o ambiente está registrado\n",
    "keys = gym.envs.registry.keys()\n",
    "print(\"ALE/Assault-v5\" in keys)\n",
    "\n",
    "# Cria o ambiente\n",
    "env = gym.make(\"ALE/Assault-v5\", render_mode=\"human\")\n",
    "\n",
    "# Verifica o espaço de observação e ações\n",
    "height, width, channels = env.observation_space.shape\n",
    "actions = env.action_space.n\n",
    "print(f\"Height: {height}, Width: {width}, Channels: {channels}\")\n",
    "print(f\"Actions: {actions}\")"
   ]
  },
  {
   "cell_type": "code",
   "execution_count": null,
   "metadata": {},
   "outputs": [],
   "source": [
    "# Teste de execução\n",
    "EPISODES = 3\n",
    "for episode in range(1, EPISODES + 1):\n",
    "    state = env.reset()\n",
    "    DONE = False\n",
    "    SCORE = 0\n",
    "\n",
    "    # Loop de execução\n",
    "    while not DONE:\n",
    "        env.render()\n",
    "        action = env.action_space.sample()\n",
    "        n_state, reward, DONE, TRUNCATED, info = env.step(action)\n",
    "        SCORE += reward\n",
    "\n",
    "    # Exibe o resultado do episódio\n",
    "    print(f\"Episode: {episode}/{EPISODES}, Score: {SCORE}\")\n",
    "env.close()"
   ]
  },
  {
   "cell_type": "code",
   "execution_count": null,
   "metadata": {},
   "outputs": [],
   "source": [
    "import gym\n",
    "env = gym.make(\"ALE/Assault-v5\", render_mode=\"human\")"
   ]
  },
  {
   "cell_type": "code",
   "execution_count": null,
   "metadata": {},
   "outputs": [],
   "source": [
    "#verificando o espaço de observação\n",
    "print(env.observation_space)\n"
   ]
  },
  {
   "cell_type": "code",
   "execution_count": null,
   "metadata": {},
   "outputs": [],
   "source": [
    "import gymnasium as gym\n",
    "import math\n",
    "import random\n",
    "import matplotlib\n",
    "import matplotlib.pyplot as plt\n",
    "from collections import namedtuple, deque\n",
    "from itertools import count\n",
    "\n",
    "import torch\n",
    "import torch.nn as nn\n",
    "import torch.optim as optim\n",
    "import torch.nn.functional as F\n",
    "\n",
    "#\n",
    "env = gym.make(\"CartPole-v1\")\n",
    "\n",
    "# set up matplotlib\n",
    "is_ipython = 'inline' in matplotlib.get_backend()\n",
    "if is_ipython:\n",
    "    from IPython import display\n",
    "\n",
    "plt.ion()\n",
    "\n",
    "# if GPU is to be used\n",
    "device = torch.device(\"cuda\" if torch.cuda.is_available() else \"cpu\")"
   ]
  }
 ],
 "metadata": {
  "kernelspec": {
   "display_name": "Python 3",
   "language": "python",
   "name": "python3"
  },
  "language_info": {
   "codemirror_mode": {
    "name": "ipython",
    "version": 3
   },
   "file_extension": ".py",
   "mimetype": "text/x-python",
   "name": "python",
   "nbconvert_exporter": "python",
   "pygments_lexer": "ipython3",
   "version": "3.10.12"
  }
 },
 "nbformat": 4,
 "nbformat_minor": 2
}
